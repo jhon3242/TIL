{
 "cells": [
  {
   "cell_type": "code",
   "execution_count": 45,
   "metadata": {},
   "outputs": [],
   "source": [
    "import yfinance as yf\n",
    "import ta\n",
    "import matplotlib.pyplot as plt\n"
   ]
  },
  {
   "cell_type": "code",
   "execution_count": 49,
   "metadata": {},
   "outputs": [
    {
     "name": "stdout",
     "output_type": "stream",
     "text": [
      "[*********************100%***********************]  1 of 1 completed\n"
     ]
    }
   ],
   "source": [
    "data = yf.download('FNGU',start = '2021-01-04')"
   ]
  },
  {
   "cell_type": "code",
   "execution_count": 80,
   "metadata": {},
   "outputs": [
    {
     "name": "stdout",
     "output_type": "stream",
     "text": [
      "[*********************100%***********************]  1 of 1 completed\n"
     ]
    }
   ],
   "source": [
    "ticker = 'FNGU'\n",
    "start_day = '2021-04-01'\n",
    "\n",
    "data = yf.download(ticker,start = '2021-01-01')\n",
    "if start_day not in data.index:\n",
    "    print('해당 날은 주가 기록이 없습니다.')\n",
    "data = data.reset_index()\t\t\t\t\t\t# 날짜 인덱스를 열로 바꾸고 숫자 인덱스 사용\n",
    "rsi = ta.momentum.rsi(data['Close'])\n",
    "mfi = ta.volume.money_flow_index(data['High'],data['Low'],data['Close'],data['Volume'])\n",
    "macd = ta.trend.macd(data['Close'])\n",
    "macd_sig = ta.trend.macd_signal(data['Close'])"
   ]
  },
  {
   "cell_type": "code",
   "execution_count": 89,
   "metadata": {},
   "outputs": [
    {
     "data": {
      "text/html": [
       "<div>\n",
       "<style scoped>\n",
       "    .dataframe tbody tr th:only-of-type {\n",
       "        vertical-align: middle;\n",
       "    }\n",
       "\n",
       "    .dataframe tbody tr th {\n",
       "        vertical-align: top;\n",
       "    }\n",
       "\n",
       "    .dataframe thead th {\n",
       "        text-align: right;\n",
       "    }\n",
       "</style>\n",
       "<table border=\"1\" class=\"dataframe\">\n",
       "  <thead>\n",
       "    <tr style=\"text-align: right;\">\n",
       "      <th></th>\n",
       "      <th>Date</th>\n",
       "      <th>Open</th>\n",
       "      <th>High</th>\n",
       "      <th>Low</th>\n",
       "      <th>Close</th>\n",
       "      <th>Adj Close</th>\n",
       "      <th>Volume</th>\n",
       "    </tr>\n",
       "  </thead>\n",
       "  <tbody>\n",
       "    <tr>\n",
       "      <th>62</th>\n",
       "      <td>2021-04-01</td>\n",
       "      <td>29.48</td>\n",
       "      <td>30.1</td>\n",
       "      <td>28.82</td>\n",
       "      <td>29.27</td>\n",
       "      <td>29.27</td>\n",
       "      <td>6344200</td>\n",
       "    </tr>\n",
       "  </tbody>\n",
       "</table>\n",
       "</div>"
      ],
      "text/plain": [
       "         Date   Open  High    Low  Close  Adj Close   Volume\n",
       "62 2021-04-01  29.48  30.1  28.82  29.27      29.27  6344200"
      ]
     },
     "execution_count": 89,
     "metadata": {},
     "output_type": "execute_result"
    }
   ],
   "source": [
    "data[data['Date'] == '2021-04-01']"
   ]
  },
  {
   "cell_type": "code",
   "execution_count": 79,
   "metadata": {},
   "outputs": [
    {
     "data": {
      "text/plain": [
       "nan"
      ]
     },
     "execution_count": 79,
     "metadata": {},
     "output_type": "execute_result"
    }
   ],
   "source": [
    "macd_sig[31]"
   ]
  },
  {
   "cell_type": "code",
   "execution_count": 61,
   "metadata": {},
   "outputs": [
    {
     "data": {
      "text/html": [
       "<div>\n",
       "<style scoped>\n",
       "    .dataframe tbody tr th:only-of-type {\n",
       "        vertical-align: middle;\n",
       "    }\n",
       "\n",
       "    .dataframe tbody tr th {\n",
       "        vertical-align: top;\n",
       "    }\n",
       "\n",
       "    .dataframe thead th {\n",
       "        text-align: right;\n",
       "    }\n",
       "</style>\n",
       "<table border=\"1\" class=\"dataframe\">\n",
       "  <thead>\n",
       "    <tr style=\"text-align: right;\">\n",
       "      <th></th>\n",
       "      <th>Open</th>\n",
       "      <th>High</th>\n",
       "      <th>Low</th>\n",
       "      <th>Close</th>\n",
       "      <th>Adj Close</th>\n",
       "      <th>Volume</th>\n",
       "    </tr>\n",
       "    <tr>\n",
       "      <th>Date</th>\n",
       "      <th></th>\n",
       "      <th></th>\n",
       "      <th></th>\n",
       "      <th></th>\n",
       "      <th></th>\n",
       "      <th></th>\n",
       "    </tr>\n",
       "  </thead>\n",
       "  <tbody>\n",
       "    <tr>\n",
       "      <th>2021-05-10</th>\n",
       "      <td>28.590000</td>\n",
       "      <td>28.590000</td>\n",
       "      <td>26.110001</td>\n",
       "      <td>26.160000</td>\n",
       "      <td>26.160000</td>\n",
       "      <td>8436400</td>\n",
       "    </tr>\n",
       "    <tr>\n",
       "      <th>2021-05-11</th>\n",
       "      <td>23.930000</td>\n",
       "      <td>26.650000</td>\n",
       "      <td>23.660000</td>\n",
       "      <td>26.490000</td>\n",
       "      <td>26.490000</td>\n",
       "      <td>12783000</td>\n",
       "    </tr>\n",
       "    <tr>\n",
       "      <th>2021-05-12</th>\n",
       "      <td>25.180000</td>\n",
       "      <td>26.174000</td>\n",
       "      <td>24.124001</td>\n",
       "      <td>24.360001</td>\n",
       "      <td>24.360001</td>\n",
       "      <td>7616100</td>\n",
       "    </tr>\n",
       "    <tr>\n",
       "      <th>2021-05-13</th>\n",
       "      <td>25.139999</td>\n",
       "      <td>25.299999</td>\n",
       "      <td>23.020000</td>\n",
       "      <td>23.900000</td>\n",
       "      <td>23.900000</td>\n",
       "      <td>8131600</td>\n",
       "    </tr>\n",
       "    <tr>\n",
       "      <th>2021-05-18</th>\n",
       "      <td>26.090000</td>\n",
       "      <td>26.700001</td>\n",
       "      <td>25.260000</td>\n",
       "      <td>25.260000</td>\n",
       "      <td>25.260000</td>\n",
       "      <td>5838300</td>\n",
       "    </tr>\n",
       "    <tr>\n",
       "      <th>2021-05-19</th>\n",
       "      <td>23.760000</td>\n",
       "      <td>25.290001</td>\n",
       "      <td>23.719999</td>\n",
       "      <td>25.219999</td>\n",
       "      <td>25.219999</td>\n",
       "      <td>5744200</td>\n",
       "    </tr>\n",
       "    <tr>\n",
       "      <th>2021-08-17</th>\n",
       "      <td>32.790001</td>\n",
       "      <td>33.220001</td>\n",
       "      <td>31.389999</td>\n",
       "      <td>32.209999</td>\n",
       "      <td>32.209999</td>\n",
       "      <td>2648900</td>\n",
       "    </tr>\n",
       "    <tr>\n",
       "      <th>2021-08-18</th>\n",
       "      <td>32.250000</td>\n",
       "      <td>32.915001</td>\n",
       "      <td>31.600000</td>\n",
       "      <td>31.680000</td>\n",
       "      <td>31.680000</td>\n",
       "      <td>1564100</td>\n",
       "    </tr>\n",
       "    <tr>\n",
       "      <th>2021-08-19</th>\n",
       "      <td>30.850000</td>\n",
       "      <td>32.429001</td>\n",
       "      <td>30.580000</td>\n",
       "      <td>31.360001</td>\n",
       "      <td>31.360001</td>\n",
       "      <td>2623800</td>\n",
       "    </tr>\n",
       "    <tr>\n",
       "      <th>2021-10-04</th>\n",
       "      <td>32.869999</td>\n",
       "      <td>32.950001</td>\n",
       "      <td>29.910000</td>\n",
       "      <td>30.600000</td>\n",
       "      <td>30.600000</td>\n",
       "      <td>5253200</td>\n",
       "    </tr>\n",
       "    <tr>\n",
       "      <th>2021-12-03</th>\n",
       "      <td>38.799999</td>\n",
       "      <td>38.967999</td>\n",
       "      <td>33.648998</td>\n",
       "      <td>35.119999</td>\n",
       "      <td>35.119999</td>\n",
       "      <td>7673300</td>\n",
       "    </tr>\n",
       "  </tbody>\n",
       "</table>\n",
       "</div>"
      ],
      "text/plain": [
       "                 Open       High        Low      Close  Adj Close    Volume\n",
       "Date                                                                       \n",
       "2021-05-10  28.590000  28.590000  26.110001  26.160000  26.160000   8436400\n",
       "2021-05-11  23.930000  26.650000  23.660000  26.490000  26.490000  12783000\n",
       "2021-05-12  25.180000  26.174000  24.124001  24.360001  24.360001   7616100\n",
       "2021-05-13  25.139999  25.299999  23.020000  23.900000  23.900000   8131600\n",
       "2021-05-18  26.090000  26.700001  25.260000  25.260000  25.260000   5838300\n",
       "2021-05-19  23.760000  25.290001  23.719999  25.219999  25.219999   5744200\n",
       "2021-08-17  32.790001  33.220001  31.389999  32.209999  32.209999   2648900\n",
       "2021-08-18  32.250000  32.915001  31.600000  31.680000  31.680000   1564100\n",
       "2021-08-19  30.850000  32.429001  30.580000  31.360001  31.360001   2623800\n",
       "2021-10-04  32.869999  32.950001  29.910000  30.600000  30.600000   5253200\n",
       "2021-12-03  38.799999  38.967999  33.648998  35.119999  35.119999   7673300"
      ]
     },
     "execution_count": 61,
     "metadata": {},
     "output_type": "execute_result"
    }
   ],
   "source": [
    "data[rsi <= 35]"
   ]
  },
  {
   "cell_type": "code",
   "execution_count": null,
   "metadata": {},
   "outputs": [],
   "source": []
  }
 ],
 "metadata": {
  "kernelspec": {
   "display_name": "Python 3",
   "language": "python",
   "name": "python3"
  },
  "language_info": {
   "codemirror_mode": {
    "name": "ipython",
    "version": 3
   },
   "file_extension": ".py",
   "mimetype": "text/x-python",
   "name": "python",
   "nbconvert_exporter": "python",
   "pygments_lexer": "ipython3",
   "version": "3.8.5"
  }
 },
 "nbformat": 4,
 "nbformat_minor": 4
}
